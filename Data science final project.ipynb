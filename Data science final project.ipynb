{
 "cells": [
  {
   "cell_type": "code",
   "execution_count": 1,
   "metadata": {},
   "outputs": [],
   "source": [
    "#import pandas library\n",
    "import pandas as pd"
   ]
  },
  {
   "cell_type": "code",
   "execution_count": 2,
   "metadata": {},
   "outputs": [],
   "source": [
    "#import IBM dataset\n",
    "data=pd.read_csv('C:/Users/good/Desktop/Simplilearn/project_data/IBM Attrition Data.csv')"
   ]
  },
  {
   "cell_type": "code",
   "execution_count": 3,
   "metadata": {},
   "outputs": [],
   "source": [
    "#regroup the Age feature into ranges of age\n",
    "age_grp=pd.cut(data['Age'], bins=[17,20,30,40,50,60], labels=['20 and below','21-30','31-40','41-50','51-60'])"
   ]
  },
  {
   "cell_type": "code",
   "execution_count": 4,
   "metadata": {},
   "outputs": [
    {
     "data": {
      "text/plain": [
       "31-40           619\n",
       "21-30           358\n",
       "41-50           322\n",
       "51-60           143\n",
       "20 and below     28\n",
       "Name: Age, dtype: int64"
      ]
     },
     "execution_count": 4,
     "metadata": {},
     "output_type": "execute_result"
    }
   ],
   "source": [
    "#find distribution of age ranges\n",
    "age_grp.value_counts()"
   ]
  },
  {
   "cell_type": "code",
   "execution_count": 5,
   "metadata": {},
   "outputs": [],
   "source": [
    "#create dataframe of the distribution of age ranges\n",
    "new_data=pd.DataFrame({'Age group':['20 and below','21-30','31-40','41-50','51-60'], 'Frequency':[28,358,619,322,143]})"
   ]
  },
  {
   "cell_type": "code",
   "execution_count": 6,
   "metadata": {},
   "outputs": [],
   "source": [
    "#find the percentile of the distribution\n",
    "per=new_data['Frequency'].apply([lambda x: (x/1470)*100])"
   ]
  },
  {
   "cell_type": "code",
   "execution_count": 7,
   "metadata": {},
   "outputs": [],
   "source": [
    "#add new column of percentile to the dataframe\n",
    "new_data['percentile']=per"
   ]
  },
  {
   "cell_type": "code",
   "execution_count": 8,
   "metadata": {},
   "outputs": [
    {
     "data": {
      "text/html": [
       "<div>\n",
       "<style scoped>\n",
       "    .dataframe tbody tr th:only-of-type {\n",
       "        vertical-align: middle;\n",
       "    }\n",
       "\n",
       "    .dataframe tbody tr th {\n",
       "        vertical-align: top;\n",
       "    }\n",
       "\n",
       "    .dataframe thead th {\n",
       "        text-align: right;\n",
       "    }\n",
       "</style>\n",
       "<table border=\"1\" class=\"dataframe\">\n",
       "  <thead>\n",
       "    <tr style=\"text-align: right;\">\n",
       "      <th></th>\n",
       "      <th>Age group</th>\n",
       "      <th>Frequency</th>\n",
       "      <th>percentile</th>\n",
       "    </tr>\n",
       "  </thead>\n",
       "  <tbody>\n",
       "    <tr>\n",
       "      <th>0</th>\n",
       "      <td>20 and below</td>\n",
       "      <td>28</td>\n",
       "      <td>1.904762</td>\n",
       "    </tr>\n",
       "    <tr>\n",
       "      <th>1</th>\n",
       "      <td>21-30</td>\n",
       "      <td>358</td>\n",
       "      <td>24.353741</td>\n",
       "    </tr>\n",
       "    <tr>\n",
       "      <th>2</th>\n",
       "      <td>31-40</td>\n",
       "      <td>619</td>\n",
       "      <td>42.108844</td>\n",
       "    </tr>\n",
       "    <tr>\n",
       "      <th>3</th>\n",
       "      <td>41-50</td>\n",
       "      <td>322</td>\n",
       "      <td>21.904762</td>\n",
       "    </tr>\n",
       "    <tr>\n",
       "      <th>4</th>\n",
       "      <td>51-60</td>\n",
       "      <td>143</td>\n",
       "      <td>9.727891</td>\n",
       "    </tr>\n",
       "  </tbody>\n",
       "</table>\n",
       "</div>"
      ],
      "text/plain": [
       "      Age group  Frequency  percentile\n",
       "0  20 and below         28    1.904762\n",
       "1         21-30        358   24.353741\n",
       "2         31-40        619   42.108844\n",
       "3         41-50        322   21.904762\n",
       "4         51-60        143    9.727891"
      ]
     },
     "execution_count": 8,
     "metadata": {},
     "output_type": "execute_result"
    }
   ],
   "source": [
    "new_data"
   ]
  },
  {
   "cell_type": "code",
   "execution_count": 9,
   "metadata": {},
   "outputs": [],
   "source": [
    "#import matplotlib to visualize the age range distribution\n",
    "import matplotlib.pyplot as plt\n",
    "from matplotlib import style\n",
    "%matplotlib inline"
   ]
  },
  {
   "cell_type": "code",
   "execution_count": 10,
   "metadata": {},
   "outputs": [
    {
     "data": {
      "image/png": "[encoded data removed]",
      "text/plain": [
       "<Figure size 432x288 with 1 Axes>"
      ]
     },
     "metadata": {},
     "output_type": "display_data"
    }
   ],
   "source": [
    "style.use('ggplot')\n",
    "plt.pie(new_data['percentile'], labels= new_data['Age group'])\n",
    "plt.show()"
   ]
  },
  {
   "cell_type": "code",
   "execution_count": 11,
   "metadata": {},
   "outputs": [
    {
     "data": {
      "text/plain": [
       "0       41-50\n",
       "1       41-50\n",
       "2       31-40\n",
       "3       31-40\n",
       "4       21-30\n",
       "        ...  \n",
       "1465    31-40\n",
       "1466    31-40\n",
       "1467    21-30\n",
       "1468    41-50\n",
       "1469    31-40\n",
       "Name: Age, Length: 1470, dtype: category\n",
       "Categories (5, object): ['20 and below' < '21-30' < '31-40' < '41-50' < '51-60']"
      ]
     },
     "execution_count": 11,
     "metadata": {},
     "output_type": "execute_result"
    }
   ],
   "source": [
    "age_grp"
   ]
  },
  {
   "cell_type": "code",
   "execution_count": 12,
   "metadata": {},
   "outputs": [],
   "source": [
    "#replace the Age column in the IBM dataset with the list of age range\n",
    "data['Age']=age_grp"
   ]
  },
  {
   "cell_type": "code",
   "execution_count": 13,
   "metadata": {},
   "outputs": [
    {
     "data": {
      "text/plain": [
       "31-40           85\n",
       "21-30           84\n",
       "41-50           34\n",
       "51-60           18\n",
       "20 and below    16\n",
       "Name: Age, dtype: int64"
      ]
     },
     "execution_count": 13,
     "metadata": {},
     "output_type": "execute_result"
    }
   ],
   "source": [
    "#group the dataset based on Attrition feature and find the distribution of the age range for each group\n",
    "att_grp=data.groupby('Attrition')\n",
    "yes_grp= att_grp.get_group('Yes')\n",
    "yes_grp['Age'].value_counts()"
   ]
  },
  {
   "cell_type": "code",
   "execution_count": 14,
   "metadata": {},
   "outputs": [
    {
     "data": {
      "text/plain": [
       "31-40           534\n",
       "41-50           288\n",
       "21-30           274\n",
       "51-60           125\n",
       "20 and below     12\n",
       "Name: Age, dtype: int64"
      ]
     },
     "execution_count": 14,
     "metadata": {},
     "output_type": "execute_result"
    }
   ],
   "source": [
    "no_grp= att_grp.get_group('No')\n",
    "no_grp['Age'].value_counts()"
   ]
  },
  {
   "cell_type": "code",
   "execution_count": 15,
   "metadata": {},
   "outputs": [
    {
     "data": {
      "text/plain": [
       "(1233, 13)"
      ]
     },
     "execution_count": 15,
     "metadata": {},
     "output_type": "execute_result"
    }
   ],
   "source": [
    "#data of left employees\n",
    "no_grp.shape"
   ]
  },
  {
   "cell_type": "code",
   "execution_count": 16,
   "metadata": {},
   "outputs": [
    {
     "name": "stdout",
     "output_type": "stream",
     "text": [
      "('Human Resources',         Age Attrition       Department  DistanceFromHome  Education  \\\n",
      "100   31-40       Yes  Human Resources                 6          4   \n",
      "105   51-60        No  Human Resources                 2          4   \n",
      "112   51-60        No  Human Resources                26          3   \n",
      "139   21-30        No  Human Resources                 9          3   \n",
      "310   31-40        No  Human Resources                 2          3   \n",
      "440   31-40       Yes  Human Resources                23          3   \n",
      "535   41-50        No  Human Resources                10          4   \n",
      "538   41-50        No  Human Resources                 1          3   \n",
      "551   31-40        No  Human Resources                 3          3   \n",
      "599   31-40        No  Human Resources                13          3   \n",
      "613   31-40        No  Human Resources                 3          2   \n",
      "655   31-40        No  Human Resources                 3          2   \n",
      "826   31-40        No  Human Resources                 1          3   \n",
      "863   31-40        No  Human Resources                 2          3   \n",
      "999   41-50        No  Human Resources                10          3   \n",
      "1107  31-40        No  Human Resources                10          4   \n",
      "1165  41-50        No  Human Resources                 1          5   \n",
      "1222  21-30       Yes  Human Resources                22          1   \n",
      "1228  41-50        No  Human Resources                 4          3   \n",
      "1246  21-30       Yes  Human Resources                 8          3   \n",
      "1289  31-40        No  Human Resources                 2          3   \n",
      "1312  31-40       Yes  Human Resources                18          5   \n",
      "1313  21-30       Yes  Human Resources                13          3   \n",
      "1347  31-40        No  Human Resources                 2          1   \n",
      "1379  21-30       Yes  Human Resources                22          3   \n",
      "1401  51-60        No  Human Resources                26          4   \n",
      "1411  21-30        No  Human Resources                 2          3   \n",
      "\n",
      "       EducationField  EnvironmentSatisfaction  JobSatisfaction MaritalStatus  \\\n",
      "100   Human Resources                        3                1      Divorced   \n",
      "105   Human Resources                        3                4       Married   \n",
      "112   Human Resources                        4                4        Single   \n",
      "139   Human Resources                        3                4       Married   \n",
      "310   Human Resources                        1                1       Married   \n",
      "440   Human Resources                        2                1      Divorced   \n",
      "535   Human Resources                        2                4      Divorced   \n",
      "538   Human Resources                        4                3       Married   \n",
      "551   Human Resources                        3                2       Married   \n",
      "599   Human Resources                        3                2       Married   \n",
      "613   Human Resources                        3                4       Married   \n",
      "655   Human Resources                        4                2      Divorced   \n",
      "826   Human Resources                        3                3       Married   \n",
      "863   Human Resources                        2                3       Married   \n",
      "999   Human Resources                        3                1       Married   \n",
      "1107  Human Resources                        3                3       Married   \n",
      "1165  Human Resources                        1                4       Married   \n",
      "1222  Human Resources                        4                3       Married   \n",
      "1228  Human Resources                        3                2       Married   \n",
      "1246  Human Resources                        3                4      Divorced   \n",
      "1289  Human Resources                        1                2      Divorced   \n",
      "1312  Human Resources                        4                1       Married   \n",
      "1313  Human Resources                        1                1      Divorced   \n",
      "1347  Human Resources                        2                4        Single   \n",
      "1379  Human Resources                        1                2       Married   \n",
      "1401  Human Resources                        3                2       Married   \n",
      "1411  Human Resources                        3                2       Married   \n",
      "\n",
      "      MonthlyIncome  NumCompaniesWorked  WorkLifeBalance  YearsAtCompany  \n",
      "100            2073                   4                3               3  \n",
      "105           18844                   9                3               3  \n",
      "112           17328                   2                3               5  \n",
      "139            6347                   0                1              11  \n",
      "310            6410                   3                3               2  \n",
      "440            9950                   9                3               3  \n",
      "535           19141                   3                2              21  \n",
      "538           19189                   1                3              22  \n",
      "551            6389                   9                1               8  \n",
      "599            2143                   4                3               5  \n",
      "613            3737                   0                1               3  \n",
      "655            2277                   3                4               4  \n",
      "826            2844                   1                4               7  \n",
      "863            3600                   1                3               5  \n",
      "999           16799                   0                3              20  \n",
      "1107           6077                   3                3               6  \n",
      "1165           5743                   4                3              10  \n",
      "1222           1555                   1                3               1  \n",
      "1228           6430                   6                3               3  \n",
      "1246           2180                   6                2               4  \n",
      "1289           2592                   5                3              11  \n",
      "1312           2956                   0                3               1  \n",
      "1313           2335                   4                3               2  \n",
      "1347           3886                   1                2              10  \n",
      "1379           2863                   1                3               1  \n",
      "1401          19636                   4                3              10  \n",
      "1411           2187                   4                3               2  )\n",
      "('Life Sciences',         Age Attrition              Department  DistanceFromHome  Education  \\\n",
      "0     41-50       Yes                   Sales                 1          2   \n",
      "1     41-50        No  Research & Development                 8          1   \n",
      "3     31-40        No  Research & Development                 3          4   \n",
      "5     31-40        No  Research & Development                 2          2   \n",
      "7     21-30        No  Research & Development                24          1   \n",
      "...     ...       ...                     ...               ...        ...   \n",
      "1454  41-50        No                   Sales                20          3   \n",
      "1455  31-40        No  Research & Development                 2          4   \n",
      "1456  31-40        No  Research & Development                18          4   \n",
      "1458  31-40        No  Research & Development                 1          4   \n",
      "1467  21-30        No  Research & Development                 4          3   \n",
      "\n",
      "     EducationField  EnvironmentSatisfaction  JobSatisfaction MaritalStatus  \\\n",
      "0     Life Sciences                        2                4        Single   \n",
      "1     Life Sciences                        3                2       Married   \n",
      "3     Life Sciences                        4                3       Married   \n",
      "5     Life Sciences                        4                4        Single   \n",
      "7     Life Sciences                        4                3      Divorced   \n",
      "...             ...                      ...              ...           ...   \n",
      "1454  Life Sciences                        4                3        Single   \n",
      "1455  Life Sciences                        3                3        Single   \n",
      "1456  Life Sciences                        3                3       Married   \n",
      "1458  Life Sciences                        3                4       Married   \n",
      "1467  Life Sciences                        2                2       Married   \n",
      "\n",
      "      MonthlyIncome  NumCompaniesWorked  WorkLifeBalance  YearsAtCompany  \n",
      "0              5993                   8                1               6  \n",
      "1              5130                   1                3              10  \n",
      "3              2909                   1                3               8  \n",
      "5              3068                   0                2               7  \n",
      "7              2693                   1                3               1  \n",
      "...             ...                 ...              ...             ...  \n",
      "1454           4850                   8                3               5  \n",
      "1455           2809                   2                3               2  \n",
      "1456           5689                   1                4              10  \n",
      "1458           2977                   1                3               4  \n",
      "1467           6142                   1                3               6  \n",
      "\n",
      "[606 rows x 13 columns])\n",
      "('Marketing',         Age Attrition Department  DistanceFromHome  Education EducationField  \\\n",
      "27    41-50        No      Sales                 8          4      Marketing   \n",
      "29    41-50        No      Sales                 2          4      Marketing   \n",
      "36    41-50       Yes      Sales                 3          2      Marketing   \n",
      "37    31-40        No      Sales                 2          3      Marketing   \n",
      "46    31-40        No      Sales                23          4      Marketing   \n",
      "...     ...       ...        ...               ...        ...            ...   \n",
      "1446  31-40        No      Sales                28          3      Marketing   \n",
      "1447  31-40        No      Sales                15          4      Marketing   \n",
      "1453  31-40        No      Sales                11          4      Marketing   \n",
      "1461  41-50       Yes      Sales                28          3      Marketing   \n",
      "1462  31-40        No      Sales                24          1      Marketing   \n",
      "\n",
      "      EnvironmentSatisfaction  JobSatisfaction MaritalStatus  MonthlyIncome  \\\n",
      "27                          3                2       Married           6825   \n",
      "29                          2                1        Single          18947   \n",
      "36                          1                3       Married           2683   \n",
      "37                          4                4       Married           2014   \n",
      "46                          2                3        Single           4568   \n",
      "...                       ...              ...           ...            ...   \n",
      "1446                        4                3       Married           6712   \n",
      "1447                        4                4      Divorced           5406   \n",
      "1453                        2                4       Married           6652   \n",
      "1461                        4                1      Divorced          10854   \n",
      "1462                        2                4       Married          12031   \n",
      "\n",
      "      NumCompaniesWorked  WorkLifeBalance  YearsAtCompany  \n",
      "27                     0                3               9  \n",
      "29                     3                2               2  \n",
      "36                     1                3               3  \n",
      "37                     1                3               2  \n",
      "46                     0                3               9  \n",
      "...                  ...              ...             ...  \n",
      "1446                   1                3               8  \n",
      "1447                   1                2              15  \n",
      "1453                   4                2               6  \n",
      "1461                   4                3               3  \n",
      "1462                   0                2              20  \n",
      "\n",
      "[159 rows x 13 columns])\n",
      "('Medical',         Age Attrition              Department  DistanceFromHome  Education  \\\n",
      "4     21-30        No  Research & Development                 2          1   \n",
      "6     51-60        No  Research & Development                 3          3   \n",
      "9     31-40        No  Research & Development                27          3   \n",
      "10    31-40        No  Research & Development                16          3   \n",
      "13    31-40        No  Research & Development                19          2   \n",
      "...     ...       ...                     ...               ...        ...   \n",
      "1463  31-40        No  Research & Development                 5          3   \n",
      "1465  31-40        No  Research & Development                23          2   \n",
      "1466  31-40        No  Research & Development                 6          1   \n",
      "1468  41-50        No                   Sales                 2          3   \n",
      "1469  31-40        No  Research & Development                 8          3   \n",
      "\n",
      "     EducationField  EnvironmentSatisfaction  JobSatisfaction MaritalStatus  \\\n",
      "4           Medical                        1                2       Married   \n",
      "6           Medical                        3                1       Married   \n",
      "9           Medical                        3                3       Married   \n",
      "10          Medical                        1                2       Married   \n",
      "13          Medical                        2                4      Divorced   \n",
      "...             ...                      ...              ...           ...   \n",
      "1463        Medical                        2                1        Single   \n",
      "1465        Medical                        3                4       Married   \n",
      "1466        Medical                        4                1       Married   \n",
      "1468        Medical                        4                2       Married   \n",
      "1469        Medical                        2                3       Married   \n",
      "\n",
      "      MonthlyIncome  NumCompaniesWorked  WorkLifeBalance  YearsAtCompany  \n",
      "4              3468                   9                3               2  \n",
      "6              2670                   4                2               1  \n",
      "9              5237                   6                2               7  \n",
      "10             2426                   0                3               5  \n",
      "13             2661                   0                3               2  \n",
      "...             ...                 ...              ...             ...  \n",
      "1463           9936                   0                3               9  \n",
      "1465           2571                   4                3               5  \n",
      "1466           9991                   4                3               7  \n",
      "1468           5390                   2                2               9  \n",
      "1469           4404                   2                4               4  \n",
      "\n",
      "[464 rows x 13 columns])\n",
      "('Other',         Age Attrition              Department  DistanceFromHome  Education  \\\n",
      "2     31-40       Yes  Research & Development                 2          2   \n",
      "20    21-30        No  Research & Development                11          2   \n",
      "25    51-60        No  Research & Development                 5          3   \n",
      "31    41-50        No  Research & Development                10          4   \n",
      "40    31-40        No  Research & Development                 4          2   \n",
      "...     ...       ...                     ...               ...        ...   \n",
      "1408  21-30        No  Research & Development                12          2   \n",
      "1413  21-30        No  Research & Development                 2          1   \n",
      "1433  21-30        No                   Sales                 8          2   \n",
      "1459  21-30        No  Research & Development                13          2   \n",
      "1464  21-30        No                   Sales                 5          3   \n",
      "\n",
      "     EducationField  EnvironmentSatisfaction  JobSatisfaction MaritalStatus  \\\n",
      "2             Other                        4                3        Single   \n",
      "20            Other                        1                3      Divorced   \n",
      "25            Other                        3                3      Divorced   \n",
      "31            Other                        4                4       Married   \n",
      "40            Other                        3                4      Divorced   \n",
      "...             ...                      ...              ...           ...   \n",
      "1408          Other                        4                4        Single   \n",
      "1413          Other                        4                3      Divorced   \n",
      "1433          Other                        1                3      Divorced   \n",
      "1459          Other                        4                2       Married   \n",
      "1464          Other                        4                3        Single   \n",
      "\n",
      "      MonthlyIncome  NumCompaniesWorked  WorkLifeBalance  YearsAtCompany  \n",
      "2              2090                   6                3               0  \n",
      "20             4011                   0                2               4  \n",
      "25            19094                   4                2              14  \n",
      "31             6465                   2                4               4  \n",
      "40             1951                   1                3               1  \n",
      "...             ...                 ...              ...             ...  \n",
      "1408           2647                   1                4               5  \n",
      "1413           3977                   6                2               2  \n",
      "1433           4907                   0                2               5  \n",
      "1459           4025                   4                3               4  \n",
      "1464           2966                   0                3               4  \n",
      "\n",
      "[82 rows x 13 columns])\n",
      "('Technical Degree',         Age Attrition              Department  DistanceFromHome  Education  \\\n",
      "33    31-40       Yes                   Sales                 5          3   \n",
      "45    41-50       Yes  Research & Development                12          3   \n",
      "51    21-30       Yes  Research & Development                 5          4   \n",
      "64    31-40        No  Research & Development                 8          3   \n",
      "86    21-30        No                   Sales                 2          1   \n",
      "...     ...       ...                     ...               ...        ...   \n",
      "1370  41-50        No  Research & Development                14          4   \n",
      "1390  21-30       Yes  Research & Development                17          3   \n",
      "1409  31-40        No  Research & Development                11          3   \n",
      "1444  51-60       Yes  Research & Development                 7          2   \n",
      "1449  31-40        No  Research & Development                 2          3   \n",
      "\n",
      "        EducationField  EnvironmentSatisfaction  JobSatisfaction  \\\n",
      "33    Technical Degree                        4                4   \n",
      "45    Technical Degree                        2                3   \n",
      "51    Technical Degree                        3                3   \n",
      "64    Technical Degree                        3                3   \n",
      "86    Technical Degree                        3                1   \n",
      "...                ...                      ...              ...   \n",
      "1370  Technical Degree                        3                2   \n",
      "1390  Technical Degree                        3                4   \n",
      "1409  Technical Degree                        4                3   \n",
      "1444  Technical Degree                        4                3   \n",
      "1449  Technical Degree                        4                1   \n",
      "\n",
      "     MaritalStatus  MonthlyIncome  NumCompaniesWorked  WorkLifeBalance  \\\n",
      "33         Married           2086                   3                4   \n",
      "45         Married          19545                   1                3   \n",
      "51          Single           3441                   1                2   \n",
      "64        Divorced          10096                   1                3   \n",
      "86        Divorced           2322                   3                3   \n",
      "...            ...            ...                 ...              ...   \n",
      "1370       Married           5467                   8                4   \n",
      "1390      Divorced           2367                   5                2   \n",
      "1409       Married           6323                   1                4   \n",
      "1444       Married           2339                   8                1   \n",
      "1449        Single           2439                   1                3   \n",
      "\n",
      "      YearsAtCompany  \n",
      "33                 1  \n",
      "45                22  \n",
      "51                 2  \n",
      "64                17  \n",
      "86                 0  \n",
      "...              ...  \n",
      "1370               8  \n",
      "1390               4  \n",
      "1409              10  \n",
      "1444              10  \n",
      "1449               4  \n",
      "\n",
      "[132 rows x 13 columns])\n"
     ]
    }
   ],
   "source": [
    "#find the distribution of dataset based on Education Field of employees\n",
    "edu_grp=data.groupby('EducationField')\n",
    "for group in edu_grp:\n",
    "    print(group)"
   ]
  },
  {
   "cell_type": "code",
   "execution_count": 17,
   "metadata": {},
   "outputs": [
    {
     "data": {
      "text/plain": [
       "Married     673\n",
       "Single      470\n",
       "Divorced    327\n",
       "Name: MaritalStatus, dtype: int64"
      ]
     },
     "execution_count": 17,
     "metadata": {},
     "output_type": "execute_result"
    }
   ],
   "source": [
    "#find the distribution of the marital status\n",
    "data['MaritalStatus'].value_counts()"
   ]
  },
  {
   "cell_type": "code",
   "execution_count": 18,
   "metadata": {},
   "outputs": [],
   "source": [
    "marital_stat = pd.DataFrame({'Marital Status':['Married','Unmarried'],'Distribution':[673,797]})"
   ]
  },
  {
   "cell_type": "code",
   "execution_count": 19,
   "metadata": {},
   "outputs": [
    {
     "data": {
      "text/html": [
       "<div>\n",
       "<style scoped>\n",
       "    .dataframe tbody tr th:only-of-type {\n",
       "        vertical-align: middle;\n",
       "    }\n",
       "\n",
       "    .dataframe tbody tr th {\n",
       "        vertical-align: top;\n",
       "    }\n",
       "\n",
       "    .dataframe thead th {\n",
       "        text-align: right;\n",
       "    }\n",
       "</style>\n",
       "<table border=\"1\" class=\"dataframe\">\n",
       "  <thead>\n",
       "    <tr style=\"text-align: right;\">\n",
       "      <th></th>\n",
       "      <th>Marital Status</th>\n",
       "      <th>Distribution</th>\n",
       "    </tr>\n",
       "  </thead>\n",
       "  <tbody>\n",
       "    <tr>\n",
       "      <th>0</th>\n",
       "      <td>Married</td>\n",
       "      <td>673</td>\n",
       "    </tr>\n",
       "    <tr>\n",
       "      <th>1</th>\n",
       "      <td>Unmarried</td>\n",
       "      <td>797</td>\n",
       "    </tr>\n",
       "  </tbody>\n",
       "</table>\n",
       "</div>"
      ],
      "text/plain": [
       "  Marital Status  Distribution\n",
       "0        Married           673\n",
       "1      Unmarried           797"
      ]
     },
     "execution_count": 19,
     "metadata": {},
     "output_type": "execute_result"
    }
   ],
   "source": [
    "marital_stat"
   ]
  },
  {
   "cell_type": "code",
   "execution_count": 20,
   "metadata": {},
   "outputs": [
    {
     "data": {
      "image/png": "[encoded data removed]",
      "text/plain": [
       "<Figure size 504x504 with 1 Axes>"
      ]
     },
     "metadata": {},
     "output_type": "display_data"
    }
   ],
   "source": [
    "#plot bar chart of the marital status of the employees\n",
    "plt.figure(figsize=(7,7))\n",
    "plt.bar(marital_stat['Marital Status'],marital_stat['Distribution'])\n",
    "plt.xlabel('Marital Status')\n",
    "plt.ylabel('Distribution')\n",
    "plt.show()"
   ]
  },
  {
   "cell_type": "code",
   "execution_count": 21,
   "metadata": {},
   "outputs": [
    {
     "data": {
      "text/plain": [
       "Index(['Age', 'Attrition', 'Department', 'DistanceFromHome', 'Education',\n",
       "       'EducationField', 'EnvironmentSatisfaction', 'JobSatisfaction',\n",
       "       'MaritalStatus', 'MonthlyIncome', 'NumCompaniesWorked',\n",
       "       'WorkLifeBalance', 'YearsAtCompany'],\n",
       "      dtype='object')"
      ]
     },
     "execution_count": 21,
     "metadata": {},
     "output_type": "execute_result"
    }
   ],
   "source": [
    "data.columns"
   ]
  },
  {
   "cell_type": "code",
   "execution_count": 80,
   "metadata": {},
   "outputs": [],
   "source": [
    "data=pd.read_csv('C:/Users/good/Desktop/Simplilearn/project_data/IBM Attrition Data.csv')\n",
    "data['Attrition'].replace('Yes',1, inplace=True)\n",
    "data['Attrition'].replace('No',0, inplace=True)"
   ]
  },
  {
   "cell_type": "code",
   "execution_count": 81,
   "metadata": {},
   "outputs": [],
   "source": [
    "data['Department'].replace('Human Resources',0, inplace=True)\n",
    "data['Department'].replace('Sales',1, inplace=True)\n",
    "data['Department'].replace('Research & Development',2, inplace=True)"
   ]
  },
  {
   "cell_type": "code",
   "execution_count": 82,
   "metadata": {},
   "outputs": [
    {
     "data": {
      "text/plain": [
       "Age                        int64\n",
       "Attrition                  int64\n",
       "Department                 int64\n",
       "DistanceFromHome           int64\n",
       "Education                  int64\n",
       "EducationField             int64\n",
       "EnvironmentSatisfaction    int64\n",
       "JobSatisfaction            int64\n",
       "MaritalStatus              int64\n",
       "MonthlyIncome              int64\n",
       "NumCompaniesWorked         int64\n",
       "WorkLifeBalance            int64\n",
       "YearsAtCompany             int64\n",
       "dtype: object"
      ]
     },
     "execution_count": 82,
     "metadata": {},
     "output_type": "execute_result"
    }
   ],
   "source": [
    "data['MaritalStatus'].replace('Single',0,inplace=True)\n",
    "data['MaritalStatus'].replace('Married',1,inplace=True)\n",
    "data['MaritalStatus'].replace('Divorced',2,inplace=True)\n",
    "\n",
    "data['EducationField'].replace('Human Resources',0,inplace=True)\n",
    "data['EducationField'].replace('Other',1,inplace=True)\n",
    "data['EducationField'].replace('Technical Degree',2,inplace=True)\n",
    "data['EducationField'].replace('Marketing',3,inplace=True)\n",
    "data['EducationField'].replace('Medical',4,inplace=True)\n",
    "data['EducationField'].replace('Life Sciences',5,inplace=True)\n",
    "\n",
    "data.dtypes"
   ]
  },
  {
   "cell_type": "code",
   "execution_count": 83,
   "metadata": {},
   "outputs": [],
   "source": [
    "#build logistic regression model to predict which employee will likely attrite\n",
    "from sklearn.model_selection import train_test_split\n",
    "from sklearn.linear_model import LogisticRegression\n",
    "logreg= LogisticRegression()"
   ]
  },
  {
   "cell_type": "code",
   "execution_count": 108,
   "metadata": {},
   "outputs": [],
   "source": [
    "feature=data[['Age','Attrition', 'Department', 'DistanceFromHome', 'Education','EducationField', 'EnvironmentSatisfaction', 'JobSatisfaction', 'MaritalStatus', 'MonthlyIncome', 'NumCompaniesWorked', 'WorkLifeBalance', 'YearsAtCompany']]\n",
    "target=data['Attrition']\n",
    "x_train,x_test,y_train,y_test= train_test_split(feature,target)"
   ]
  },
  {
   "cell_type": "code",
   "execution_count": 109,
   "metadata": {},
   "outputs": [
    {
     "name": "stderr",
     "output_type": "stream",
     "text": [
      "C:\\Users\\Dullard_boy\\.conda\\lib\\site-packages\\sklearn\\linear_model\\_logistic.py:762: ConvergenceWarning: lbfgs failed to converge (status=1):\n",
      "STOP: TOTAL NO. of ITERATIONS REACHED LIMIT.\n",
      "\n",
      "Increase the number of iterations (max_iter) or scale the data as shown in:\n",
      "    https://scikit-learn.org/stable/modules/preprocessing.html\n",
      "Please also refer to the documentation for alternative solver options:\n",
      "    https://scikit-learn.org/stable/modules/linear_model.html#logistic-regression\n",
      "  n_iter_i = _check_optimize_result(\n"
     ]
    },
    {
     "data": {
      "text/plain": [
       "LogisticRegression()"
      ]
     },
     "execution_count": 109,
     "metadata": {},
     "output_type": "execute_result"
    }
   ],
   "source": [
    "logreg.fit(x_train,y_train)"
   ]
  },
  {
   "cell_type": "code",
   "execution_count": 110,
   "metadata": {},
   "outputs": [],
   "source": [
    "y_pred=logreg.predict(x_test)"
   ]
  },
  {
   "cell_type": "code",
   "execution_count": 111,
   "metadata": {},
   "outputs": [
    {
     "data": {
      "text/plain": [
       "array([0, 0, 0, 1, 0, 0, 0, 0, 0, 0, 0, 0, 0, 0, 0, 0, 0, 0, 0, 0, 0, 0,\n",
       "       0, 0, 0, 0, 0, 0, 0, 0, 0, 0, 0, 0, 0, 0, 0, 1, 0, 1, 0, 0, 0, 0,\n",
       "       0, 0, 0, 0, 0, 0, 0, 0, 0, 0, 0, 0, 0, 1, 0, 0, 0, 0, 0, 0, 0, 0,\n",
       "       0, 0, 0, 0, 0, 0, 0, 0, 0, 0, 0, 0, 0, 0, 0, 0, 0, 0, 0, 0, 0, 0,\n",
       "       0, 0, 0, 0, 0, 0, 0, 0, 0, 0, 0, 0, 0, 0, 0, 0, 0, 0, 1, 0, 0, 1,\n",
       "       0, 0, 0, 0, 1, 0, 0, 0, 0, 0, 0, 0, 0, 0, 0, 0, 1, 0, 0, 0, 0, 0,\n",
       "       0, 1, 0, 0, 0, 0, 0, 0, 0, 0, 0, 0, 0, 0, 0, 0, 0, 1, 1, 0, 0, 0,\n",
       "       0, 0, 1, 0, 0, 0, 0, 0, 0, 0, 1, 1, 0, 0, 0, 0, 0, 0, 0, 1, 0, 0,\n",
       "       0, 0, 0, 0, 0, 0, 0, 0, 0, 0, 0, 0, 1, 0, 0, 1, 0, 0, 0, 0, 0, 0,\n",
       "       0, 1, 0, 0, 0, 0, 0, 0, 0, 0, 0, 0, 0, 1, 0, 0, 1, 0, 0, 0, 0, 0,\n",
       "       1, 0, 0, 0, 0, 1, 0, 0, 0, 0, 0, 0, 0, 0, 0, 0, 0, 0, 0, 0, 0, 0,\n",
       "       0, 0, 0, 0, 0, 0, 0, 0, 0, 1, 0, 0, 0, 0, 0, 1, 0, 0, 0, 0, 0, 0,\n",
       "       0, 0, 0, 0, 0, 0, 0, 0, 0, 0, 0, 0, 0, 0, 0, 0, 0, 0, 0, 0, 0, 0,\n",
       "       0, 0, 0, 0, 0, 1, 0, 0, 0, 0, 0, 0, 0, 0, 0, 0, 0, 0, 0, 0, 0, 0,\n",
       "       0, 1, 0, 0, 1, 0, 0, 0, 0, 0, 0, 0, 0, 0, 0, 0, 0, 0, 0, 0, 0, 0,\n",
       "       0, 0, 0, 0, 0, 0, 0, 0, 0, 0, 0, 1, 0, 0, 0, 0, 0, 0, 0, 0, 0, 0,\n",
       "       0, 0, 0, 0, 0, 0, 0, 0, 0, 0, 0, 0, 0, 0, 0, 0], dtype=int64)"
      ]
     },
     "execution_count": 111,
     "metadata": {},
     "output_type": "execute_result"
    }
   ],
   "source": [
    "y_pred"
   ]
  },
  {
   "cell_type": "code",
   "execution_count": 112,
   "metadata": {},
   "outputs": [
    {
     "data": {
      "text/plain": [
       "0.904891304347826"
      ]
     },
     "execution_count": 112,
     "metadata": {},
     "output_type": "execute_result"
    }
   ],
   "source": [
    "#find the accuracy score\n",
    "from sklearn import metrics\n",
    "metrics.accuracy_score(y_test,y_pred)"
   ]
  },
  {
   "cell_type": "code",
   "execution_count": 113,
   "metadata": {},
   "outputs": [
    {
     "data": {
      "text/plain": [
       "0.7033139274518585"
      ]
     },
     "execution_count": 113,
     "metadata": {},
     "output_type": "execute_result"
    }
   ],
   "source": [
    "metrics.roc_auc_score(y_test, y_pred)"
   ]
  },
  {
   "cell_type": "code",
   "execution_count": 114,
   "metadata": {},
   "outputs": [
    {
     "data": {
      "text/plain": [
       "array([[312,   7],\n",
       "       [ 28,  21]], dtype=int64)"
      ]
     },
     "execution_count": 114,
     "metadata": {},
     "output_type": "execute_result"
    }
   ],
   "source": [
    "metrics.confusion_matrix(y_test,y_pred)"
   ]
  },
  {
   "cell_type": "code",
   "execution_count": 115,
   "metadata": {},
   "outputs": [
    {
     "data": {
      "text/plain": [
       "'              precision    recall  f1-score   support\\n\\n           0       0.92      0.98      0.95       319\\n           1       0.75      0.43      0.55        49\\n\\n    accuracy                           0.90       368\\n   macro avg       0.83      0.70      0.75       368\\nweighted avg       0.90      0.90      0.89       368\\n'"
      ]
     },
     "execution_count": 115,
     "metadata": {},
     "output_type": "execute_result"
    }
   ],
   "source": [
    "metrics.classification_report(y_test,y_pred)"
   ]
  },
  {
   "cell_type": "code",
   "execution_count": 116,
   "metadata": {},
   "outputs": [],
   "source": [
    "probs=logreg.predict_proba(x_test)"
   ]
  },
  {
   "cell_type": "code",
   "execution_count": 117,
   "metadata": {},
   "outputs": [
    {
     "data": {
      "text/plain": [
       "array([[0.95501764, 0.04498236],\n",
       "       [0.98333597, 0.01666403],\n",
       "       [0.99701532, 0.00298468],\n",
       "       [0.42180291, 0.57819709],\n",
       "       [0.95966861, 0.04033139],\n",
       "       [0.91478283, 0.08521717],\n",
       "       [0.72987494, 0.27012506],\n",
       "       [0.99788068, 0.00211932],\n",
       "       [0.93930234, 0.06069766],\n",
       "       [0.96320468, 0.03679532],\n",
       "       [0.94918105, 0.05081895],\n",
       "       [0.95905313, 0.04094687],\n",
       "       [0.97143537, 0.02856463],\n",
       "       [0.91596997, 0.08403003],\n",
       "       [0.99217511, 0.00782489],\n",
       "       [0.95728421, 0.04271579],\n",
       "       [0.83209779, 0.16790221],\n",
       "       [0.78920349, 0.21079651],\n",
       "       [0.88542035, 0.11457965],\n",
       "       [0.99115856, 0.00884144],\n",
       "       [0.94667924, 0.05332076],\n",
       "       [0.9857983 , 0.0142017 ],\n",
       "       [0.97939758, 0.02060242],\n",
       "       [0.88682249, 0.11317751],\n",
       "       [0.93857296, 0.06142704],\n",
       "       [0.80855954, 0.19144046],\n",
       "       [0.89838132, 0.10161868],\n",
       "       [0.96427951, 0.03572049],\n",
       "       [0.9410045 , 0.0589955 ],\n",
       "       [0.9822791 , 0.0177209 ],\n",
       "       [0.91130578, 0.08869422],\n",
       "       [0.93192944, 0.06807056],\n",
       "       [0.94474774, 0.05525226],\n",
       "       [0.82511107, 0.17488893],\n",
       "       [0.89083534, 0.10916466],\n",
       "       [0.92264421, 0.07735579],\n",
       "       [0.94237333, 0.05762667],\n",
       "       [0.22545326, 0.77454674],\n",
       "       [0.96098483, 0.03901517],\n",
       "       [0.17504425, 0.82495575],\n",
       "       [0.99314452, 0.00685548],\n",
       "       [0.98856602, 0.01143398],\n",
       "       [0.91553757, 0.08446243],\n",
       "       [0.98867018, 0.01132982],\n",
       "       [0.99535844, 0.00464156],\n",
       "       [0.98136511, 0.01863489],\n",
       "       [0.56168521, 0.43831479],\n",
       "       [0.92140118, 0.07859882],\n",
       "       [0.90834762, 0.09165238],\n",
       "       [0.95776022, 0.04223978],\n",
       "       [0.99401374, 0.00598626],\n",
       "       [0.98499387, 0.01500613],\n",
       "       [0.99582826, 0.00417174],\n",
       "       [0.97995656, 0.02004344],\n",
       "       [0.96796681, 0.03203319],\n",
       "       [0.92313466, 0.07686534],\n",
       "       [0.90834883, 0.09165117],\n",
       "       [0.0642649 , 0.9357351 ],\n",
       "       [0.82346714, 0.17653286],\n",
       "       [0.81290385, 0.18709615],\n",
       "       [0.74019593, 0.25980407],\n",
       "       [0.96803295, 0.03196705],\n",
       "       [0.98630598, 0.01369402],\n",
       "       [0.98414707, 0.01585293],\n",
       "       [0.91155783, 0.08844217],\n",
       "       [0.98379503, 0.01620497],\n",
       "       [0.93052206, 0.06947794],\n",
       "       [0.99713876, 0.00286124],\n",
       "       [0.87457918, 0.12542082],\n",
       "       [0.98638409, 0.01361591],\n",
       "       [0.96473219, 0.03526781],\n",
       "       [0.86712017, 0.13287983],\n",
       "       [0.98175706, 0.01824294],\n",
       "       [0.93601217, 0.06398783],\n",
       "       [0.96881264, 0.03118736],\n",
       "       [0.98079262, 0.01920738],\n",
       "       [0.97024447, 0.02975553],\n",
       "       [0.96991695, 0.03008305],\n",
       "       [0.60839741, 0.39160259],\n",
       "       [0.99527481, 0.00472519],\n",
       "       [0.95463612, 0.04536388],\n",
       "       [0.99583126, 0.00416874],\n",
       "       [0.97867803, 0.02132197],\n",
       "       [0.82658496, 0.17341504],\n",
       "       [0.91449699, 0.08550301],\n",
       "       [0.95845209, 0.04154791],\n",
       "       [0.98047579, 0.01952421],\n",
       "       [0.95335719, 0.04664281],\n",
       "       [0.92043339, 0.07956661],\n",
       "       [0.58156324, 0.41843676],\n",
       "       [0.66108649, 0.33891351],\n",
       "       [0.98294371, 0.01705629],\n",
       "       [0.98993632, 0.01006368],\n",
       "       [0.67135465, 0.32864535],\n",
       "       [0.88031601, 0.11968399],\n",
       "       [0.89200511, 0.10799489],\n",
       "       [0.97383729, 0.02616271],\n",
       "       [0.83041277, 0.16958723],\n",
       "       [0.9678254 , 0.0321746 ],\n",
       "       [0.96632877, 0.03367123],\n",
       "       [0.97364069, 0.02635931],\n",
       "       [0.50207812, 0.49792188],\n",
       "       [0.8404781 , 0.1595219 ],\n",
       "       [0.99576585, 0.00423415],\n",
       "       [0.9978321 , 0.0021679 ],\n",
       "       [0.98853407, 0.01146593],\n",
       "       [0.46449869, 0.53550131],\n",
       "       [0.89973205, 0.10026795],\n",
       "       [0.98930922, 0.01069078],\n",
       "       [0.08242887, 0.91757113],\n",
       "       [0.98775098, 0.01224902],\n",
       "       [0.99856355, 0.00143645],\n",
       "       [0.88779694, 0.11220306],\n",
       "       [0.89096425, 0.10903575],\n",
       "       [0.47725133, 0.52274867],\n",
       "       [0.97544914, 0.02455086],\n",
       "       [0.9546689 , 0.0453311 ],\n",
       "       [0.96232895, 0.03767105],\n",
       "       [0.98657385, 0.01342615],\n",
       "       [0.99276917, 0.00723083],\n",
       "       [0.96679214, 0.03320786],\n",
       "       [0.958728  , 0.041272  ],\n",
       "       [0.85473632, 0.14526368],\n",
       "       [0.91165036, 0.08834964],\n",
       "       [0.99206815, 0.00793185],\n",
       "       [0.98819914, 0.01180086],\n",
       "       [0.26987515, 0.73012485],\n",
       "       [0.94375978, 0.05624022],\n",
       "       [0.71960295, 0.28039705],\n",
       "       [0.90323689, 0.09676311],\n",
       "       [0.96279455, 0.03720545],\n",
       "       [0.9782281 , 0.0217719 ],\n",
       "       [0.50227556, 0.49772444],\n",
       "       [0.49751105, 0.50248895],\n",
       "       [0.95454557, 0.04545443],\n",
       "       [0.90697632, 0.09302368],\n",
       "       [0.70598004, 0.29401996],\n",
       "       [0.75702565, 0.24297435],\n",
       "       [0.95271603, 0.04728397],\n",
       "       [0.97638529, 0.02361471],\n",
       "       [0.96860335, 0.03139665],\n",
       "       [0.97617455, 0.02382545],\n",
       "       [0.88284003, 0.11715997],\n",
       "       [0.98270381, 0.01729619],\n",
       "       [0.99682565, 0.00317435],\n",
       "       [0.89067163, 0.10932837],\n",
       "       [0.79068741, 0.20931259],\n",
       "       [0.59926417, 0.40073583],\n",
       "       [0.96113517, 0.03886483],\n",
       "       [0.16004347, 0.83995653],\n",
       "       [0.36182623, 0.63817377],\n",
       "       [0.96946786, 0.03053214],\n",
       "       [0.95845132, 0.04154868],\n",
       "       [0.80249626, 0.19750374],\n",
       "       [0.96856717, 0.03143283],\n",
       "       [0.73011265, 0.26988735],\n",
       "       [0.3504132 , 0.6495868 ],\n",
       "       [0.99336355, 0.00663645],\n",
       "       [0.91750169, 0.08249831],\n",
       "       [0.95538522, 0.04461478],\n",
       "       [0.90160147, 0.09839853],\n",
       "       [0.89852876, 0.10147124],\n",
       "       [0.9500725 , 0.0499275 ],\n",
       "       [0.91482305, 0.08517695],\n",
       "       [0.37218317, 0.62781683],\n",
       "       [0.44415138, 0.55584862],\n",
       "       [0.97162794, 0.02837206],\n",
       "       [0.99560752, 0.00439248],\n",
       "       [0.99064626, 0.00935374],\n",
       "       [0.97049277, 0.02950723],\n",
       "       [0.79875591, 0.20124409],\n",
       "       [0.99021271, 0.00978729],\n",
       "       [0.98321338, 0.01678662],\n",
       "       [0.45125527, 0.54874473],\n",
       "       [0.73831355, 0.26168645],\n",
       "       [0.89689419, 0.10310581],\n",
       "       [0.98992351, 0.01007649],\n",
       "       [0.89402541, 0.10597459],\n",
       "       [0.9254721 , 0.0745279 ],\n",
       "       [0.92961065, 0.07038935],\n",
       "       [0.9943561 , 0.0056439 ],\n",
       "       [0.68101541, 0.31898459],\n",
       "       [0.76741619, 0.23258381],\n",
       "       [0.97405035, 0.02594965],\n",
       "       [0.92253755, 0.07746245],\n",
       "       [0.96412626, 0.03587374],\n",
       "       [0.82891111, 0.17108889],\n",
       "       [0.98952735, 0.01047265],\n",
       "       [0.16079675, 0.83920325],\n",
       "       [0.92180639, 0.07819361],\n",
       "       [0.99682304, 0.00317696],\n",
       "       [0.1633093 , 0.8366907 ],\n",
       "       [0.960709  , 0.039291  ],\n",
       "       [0.7200196 , 0.2799804 ],\n",
       "       [0.9741944 , 0.0258056 ],\n",
       "       [0.99554634, 0.00445366],\n",
       "       [0.86386746, 0.13613254],\n",
       "       [0.62716212, 0.37283788],\n",
       "       [0.92907388, 0.07092612],\n",
       "       [0.26030196, 0.73969804],\n",
       "       [0.94971886, 0.05028114],\n",
       "       [0.87773545, 0.12226455],\n",
       "       [0.88775298, 0.11224702],\n",
       "       [0.92300936, 0.07699064],\n",
       "       [0.66862534, 0.33137466],\n",
       "       [0.97881273, 0.02118727],\n",
       "       [0.88122879, 0.11877121],\n",
       "       [0.98411396, 0.01588604],\n",
       "       [0.99181238, 0.00818762],\n",
       "       [0.98008847, 0.01991153],\n",
       "       [0.84845113, 0.15154887],\n",
       "       [0.41976599, 0.58023401],\n",
       "       [0.86563201, 0.13436799],\n",
       "       [0.98711689, 0.01288311],\n",
       "       [0.2445462 , 0.7554538 ],\n",
       "       [0.98426288, 0.01573712],\n",
       "       [0.96309813, 0.03690187],\n",
       "       [0.96418837, 0.03581163],\n",
       "       [0.97756242, 0.02243758],\n",
       "       [0.55573969, 0.44426031],\n",
       "       [0.46288971, 0.53711029],\n",
       "       [0.87524396, 0.12475604],\n",
       "       [0.95654755, 0.04345245],\n",
       "       [0.92762735, 0.07237265],\n",
       "       [0.93626617, 0.06373383],\n",
       "       [0.46200263, 0.53799737],\n",
       "       [0.96197288, 0.03802712],\n",
       "       [0.97877392, 0.02122608],\n",
       "       [0.65242865, 0.34757135],\n",
       "       [0.71760941, 0.28239059],\n",
       "       [0.80966549, 0.19033451],\n",
       "       [0.95425982, 0.04574018],\n",
       "       [0.61332112, 0.38667888],\n",
       "       [0.94121512, 0.05878488],\n",
       "       [0.99522497, 0.00477503],\n",
       "       [0.96599264, 0.03400736],\n",
       "       [0.99740263, 0.00259737],\n",
       "       [0.99498135, 0.00501865],\n",
       "       [0.91507956, 0.08492044],\n",
       "       [0.98847424, 0.01152576],\n",
       "       [0.95791242, 0.04208758],\n",
       "       [0.98956119, 0.01043881],\n",
       "       [0.93802556, 0.06197444],\n",
       "       [0.95692322, 0.04307678],\n",
       "       [0.64695946, 0.35304054],\n",
       "       [0.68561061, 0.31438939],\n",
       "       [0.98837883, 0.01162117],\n",
       "       [0.97447407, 0.02552593],\n",
       "       [0.98731348, 0.01268652],\n",
       "       [0.99412074, 0.00587926],\n",
       "       [0.99407465, 0.00592535],\n",
       "       [0.20410269, 0.79589731],\n",
       "       [0.8207434 , 0.1792566 ],\n",
       "       [0.982767  , 0.017233  ],\n",
       "       [0.99140192, 0.00859808],\n",
       "       [0.99770879, 0.00229121],\n",
       "       [0.9503455 , 0.0496545 ],\n",
       "       [0.41440178, 0.58559822],\n",
       "       [0.94355799, 0.05644201],\n",
       "       [0.96732894, 0.03267106],\n",
       "       [0.99847052, 0.00152948],\n",
       "       [0.94977903, 0.05022097],\n",
       "       [0.94401749, 0.05598251],\n",
       "       [0.98459183, 0.01540817],\n",
       "       [0.98352426, 0.01647574],\n",
       "       [0.85693802, 0.14306198],\n",
       "       [0.88625636, 0.11374364],\n",
       "       [0.97722264, 0.02277736],\n",
       "       [0.88681073, 0.11318927],\n",
       "       [0.90749492, 0.09250508],\n",
       "       [0.97682683, 0.02317317],\n",
       "       [0.93335666, 0.06664334],\n",
       "       [0.97821273, 0.02178727],\n",
       "       [0.95663822, 0.04336178],\n",
       "       [0.89058331, 0.10941669],\n",
       "       [0.98461596, 0.01538404],\n",
       "       [0.89938405, 0.10061595],\n",
       "       [0.99538873, 0.00461127],\n",
       "       [0.96733602, 0.03266398],\n",
       "       [0.84736067, 0.15263933],\n",
       "       [0.95703919, 0.04296081],\n",
       "       [0.94678625, 0.05321375],\n",
       "       [0.94303151, 0.05696849],\n",
       "       [0.8592157 , 0.1407843 ],\n",
       "       [0.99376427, 0.00623573],\n",
       "       [0.98113925, 0.01886075],\n",
       "       [0.97282142, 0.02717858],\n",
       "       [0.71569915, 0.28430085],\n",
       "       [0.94475027, 0.05524973],\n",
       "       [0.95218318, 0.04781682],\n",
       "       [0.97844887, 0.02155113],\n",
       "       [0.41729935, 0.58270065],\n",
       "       [0.97669011, 0.02330989],\n",
       "       [0.97932035, 0.02067965],\n",
       "       [0.7880246 , 0.2119754 ],\n",
       "       [0.92752836, 0.07247164],\n",
       "       [0.91830597, 0.08169403],\n",
       "       [0.93561403, 0.06438597],\n",
       "       [0.84083381, 0.15916619],\n",
       "       [0.84063993, 0.15936007],\n",
       "       [0.91420429, 0.08579571],\n",
       "       [0.63990059, 0.36009941],\n",
       "       [0.9840912 , 0.0159088 ],\n",
       "       [0.75806561, 0.24193439],\n",
       "       [0.95950939, 0.04049061],\n",
       "       [0.98459078, 0.01540922],\n",
       "       [0.91220899, 0.08779101],\n",
       "       [0.96201376, 0.03798624],\n",
       "       [0.5208508 , 0.4791492 ],\n",
       "       [0.38234524, 0.61765476],\n",
       "       [0.94313563, 0.05686437],\n",
       "       [0.78124321, 0.21875679],\n",
       "       [0.43942908, 0.56057092],\n",
       "       [0.93569356, 0.06430644],\n",
       "       [0.99468739, 0.00531261],\n",
       "       [0.81633015, 0.18366985],\n",
       "       [0.86569404, 0.13430596],\n",
       "       [0.95159916, 0.04840084],\n",
       "       [0.90434533, 0.09565467],\n",
       "       [0.97381375, 0.02618625],\n",
       "       [0.94835354, 0.05164646],\n",
       "       [0.89302785, 0.10697215],\n",
       "       [0.9944918 , 0.0055082 ],\n",
       "       [0.73979348, 0.26020652],\n",
       "       [0.96741864, 0.03258136],\n",
       "       [0.96095288, 0.03904712],\n",
       "       [0.92078863, 0.07921137],\n",
       "       [0.92049919, 0.07950081],\n",
       "       [0.87635932, 0.12364068],\n",
       "       [0.92425777, 0.07574223],\n",
       "       [0.98674946, 0.01325054],\n",
       "       [0.80049035, 0.19950965],\n",
       "       [0.95658948, 0.04341052],\n",
       "       [0.98569887, 0.01430113],\n",
       "       [0.65935106, 0.34064894],\n",
       "       [0.9876601 , 0.0123399 ],\n",
       "       [0.94214521, 0.05785479],\n",
       "       [0.97832994, 0.02167006],\n",
       "       [0.98916918, 0.01083082],\n",
       "       [0.57661335, 0.42338665],\n",
       "       [0.72201816, 0.27798184],\n",
       "       [0.30181586, 0.69818414],\n",
       "       [0.97087088, 0.02912912],\n",
       "       [0.96866347, 0.03133653],\n",
       "       [0.97448658, 0.02551342],\n",
       "       [0.98284259, 0.01715741],\n",
       "       [0.99705821, 0.00294179],\n",
       "       [0.91588887, 0.08411113],\n",
       "       [0.90391022, 0.09608978],\n",
       "       [0.99589648, 0.00410352],\n",
       "       [0.98769313, 0.01230687],\n",
       "       [0.91629107, 0.08370893],\n",
       "       [0.93190415, 0.06809585],\n",
       "       [0.83094238, 0.16905762],\n",
       "       [0.96260325, 0.03739675],\n",
       "       [0.96359357, 0.03640643],\n",
       "       [0.84731794, 0.15268206],\n",
       "       [0.95535292, 0.04464708],\n",
       "       [0.90842104, 0.09157896],\n",
       "       [0.52212868, 0.47787132],\n",
       "       [0.95171923, 0.04828077],\n",
       "       [0.97715376, 0.02284624],\n",
       "       [0.94705122, 0.05294878],\n",
       "       [0.51935856, 0.48064144],\n",
       "       [0.73354582, 0.26645418],\n",
       "       [0.95056306, 0.04943694],\n",
       "       [0.9761915 , 0.0238085 ],\n",
       "       [0.85531145, 0.14468855]])"
      ]
     },
     "execution_count": 117,
     "metadata": {},
     "output_type": "execute_result"
    }
   ],
   "source": [
    "probs"
   ]
  },
  {
   "cell_type": "code",
   "execution_count": null,
   "metadata": {},
   "outputs": [],
   "source": []
  }
 ],
 "metadata": {
  "kernelspec": {
   "display_name": "Python 3",
   "language": "python",
   "name": "python3"
  },
  "language_info": {
   "codemirror_mode": {
    "name": "ipython",
    "version": 3
   },
   "file_extension": ".py",
   "mimetype": "text/x-python",
   "name": "python",
   "nbconvert_exporter": "python",
   "pygments_lexer": "ipython3",
   "version": "3.8.5"
  }
 },
 "nbformat": 4,
 "nbformat_minor": 4
}
